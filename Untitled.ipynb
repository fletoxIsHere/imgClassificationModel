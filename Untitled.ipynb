{
 "cells": [
  {
   "cell_type": "code",
   "execution_count": 1,
   "id": "9b9a388e",
   "metadata": {},
   "outputs": [],
   "source": [
    "import pandas as pd\n",
    "import cv2\n",
    "import os"
   ]
  },
  {
   "cell_type": "code",
   "execution_count": 2,
   "id": "15d3a235",
   "metadata": {},
   "outputs": [],
   "source": [
    "images = []\n",
    "labels = []\n",
    "categories = ['sport', 'driving']  # Replace with your actual categories\n",
    "\n",
    "for category in categories:  # categories you have like 'sports', 'shopping', etc.\n",
    "    for image in os.listdir(f'{category}'):\n",
    "        img = cv2.imread(f'{category}/{image}')\n",
    "        img = cv2.resize(img, (224, 224))  # Resize if necessary\n",
    "        images.append(img)\n",
    "        labels.append(category)"
   ]
  },
  {
   "cell_type": "code",
   "execution_count": null,
   "id": "ea4848d4",
   "metadata": {},
   "outputs": [],
   "source": []
  },
  {
   "cell_type": "code",
   "execution_count": 3,
   "id": "9a6df793",
   "metadata": {},
   "outputs": [
    {
     "name": "stdout",
     "output_type": "stream",
     "text": [
      "['sport' 'sport' 'sport' 'sport' 'sport' 'sport' 'sport' 'sport' 'sport'\n",
      " 'sport' 'sport' 'sport' 'sport' 'sport' 'sport' 'sport' 'sport' 'sport'\n",
      " 'sport' 'sport' 'sport' 'sport' 'sport' 'sport' 'sport' 'sport' 'sport'\n",
      " 'sport' 'sport' 'sport' 'sport' 'sport' 'sport' 'sport' 'driving'\n",
      " 'driving' 'driving' 'driving' 'driving' 'driving' 'driving' 'driving'\n",
      " 'driving' 'driving' 'driving' 'driving' 'driving' 'driving' 'driving'\n",
      " 'driving' 'driving' 'driving' 'driving' 'driving' 'driving' 'driving'\n",
      " 'driving' 'driving' 'driving' 'driving' 'driving' 'driving' 'driving'\n",
      " 'driving']\n"
     ]
    }
   ],
   "source": [
    "from sklearn.model_selection import train_test_split\n",
    "from tensorflow.keras.utils import to_categorical\n",
    "from sklearn.preprocessing import LabelEncoder\n",
    "import numpy as np\n",
    "\n",
    "labels = np.array(labels)\n",
    "# y = np.argmax(labels, axis=1)\n",
    "print(labels)\n",
    "y= labels"
   ]
  },
  {
   "cell_type": "code",
   "execution_count": 4,
   "id": "46c1f20a",
   "metadata": {},
   "outputs": [],
   "source": [
    "label_encoder = LabelEncoder()\n",
    "y = label_encoder.fit_transform(y)\n",
    "y = to_categorical(y)\n",
    "\n",
    "# Normalize image vectors\n",
    "images = np.array(images) / 255.0\n",
    "\n",
    "# Split the data\n",
    "X_train, X_test, y_train, y_test = train_test_split(images, y, test_size=0.2)\n",
    "\n"
   ]
  },
  {
   "cell_type": "code",
   "execution_count": 5,
   "id": "881587a5",
   "metadata": {},
   "outputs": [],
   "source": [
    "from tensorflow.keras.models import Sequential\n",
    "from tensorflow.keras.layers import Conv2D, MaxPooling2D\n",
    "from tensorflow.keras.layers import Activation, Dropout, Flatten, Dense"
   ]
  },
  {
   "cell_type": "code",
   "execution_count": 6,
   "id": "a3492514",
   "metadata": {},
   "outputs": [],
   "source": [
    "\n",
    "model = Sequential()\n",
    "model.add(Conv2D(32, (3, 3), input_shape=(224, 224, 3)))\n",
    "model.add(Activation('relu'))\n",
    "model.add(MaxPooling2D(pool_size=(2, 2)))\n",
    "\n",
    "# Add more layers as necessary\n",
    "\n",
    "model.add(Flatten())  # Flatten before dense layers\n",
    "model.add(Dense(64))\n",
    "model.add(Activation('relu'))\n",
    "model.add(Dropout(0.5))\n",
    "model.add(Dense(len(categories)))  # Output layer: one per category\n",
    "model.add(Activation('softmax'))\n",
    "\n",
    "model.compile(loss='categorical_crossentropy',\n",
    "              optimizer='adam',\n",
    "              metrics=['accuracy'])\n"
   ]
  },
  {
   "cell_type": "code",
   "execution_count": 7,
   "id": "fe4b5923",
   "metadata": {
    "scrolled": true
   },
   "outputs": [
    {
     "name": "stdout",
     "output_type": "stream",
     "text": [
      "Epoch 1/10\n",
      "2/2 [==============================] - 4s 1s/step - loss: 13.1946 - accuracy: 0.4222 - val_loss: 25.3662 - val_accuracy: 0.1667\n",
      "Epoch 2/10\n",
      "2/2 [==============================] - 2s 788ms/step - loss: 14.3595 - accuracy: 0.5333 - val_loss: 9.4567 - val_accuracy: 0.8333\n",
      "Epoch 3/10\n",
      "2/2 [==============================] - 2s 766ms/step - loss: 15.5966 - accuracy: 0.6444 - val_loss: 4.4262 - val_accuracy: 0.8333\n",
      "Epoch 4/10\n",
      "2/2 [==============================] - 2s 785ms/step - loss: 6.4679 - accuracy: 0.6889 - val_loss: 4.8892 - val_accuracy: 0.1667\n",
      "Epoch 5/10\n",
      "2/2 [==============================] - 2s 821ms/step - loss: 6.9380 - accuracy: 0.6889 - val_loss: 15.8870 - val_accuracy: 0.1667\n",
      "Epoch 6/10\n",
      "2/2 [==============================] - 2s 750ms/step - loss: 5.8908 - accuracy: 0.6667 - val_loss: 7.9777 - val_accuracy: 0.1667\n",
      "Epoch 7/10\n",
      "2/2 [==============================] - 2s 787ms/step - loss: 1.8614 - accuracy: 0.8222 - val_loss: 2.1135 - val_accuracy: 0.6667\n",
      "Epoch 8/10\n",
      "2/2 [==============================] - 2s 811ms/step - loss: 1.0657 - accuracy: 0.9333 - val_loss: 0.2498 - val_accuracy: 0.8333\n",
      "Epoch 9/10\n",
      "2/2 [==============================] - 2s 706ms/step - loss: 0.6005 - accuracy: 0.9111 - val_loss: 0.1179 - val_accuracy: 1.0000\n",
      "Epoch 10/10\n",
      "2/2 [==============================] - 2s 772ms/step - loss: 0.5423 - accuracy: 0.9333 - val_loss: 0.1748 - val_accuracy: 0.8333\n"
     ]
    },
    {
     "data": {
      "text/plain": [
       "<keras.src.callbacks.History at 0x29785ed2950>"
      ]
     },
     "execution_count": 7,
     "metadata": {},
     "output_type": "execute_result"
    }
   ],
   "source": [
    "model.fit(X_train, y_train, batch_size=32, epochs=10, validation_split=0.1)\n"
   ]
  },
  {
   "cell_type": "code",
   "execution_count": 8,
   "id": "92eca003",
   "metadata": {},
   "outputs": [
    {
     "name": "stdout",
     "output_type": "stream",
     "text": [
      "1/1 [==============================] - 0s 178ms/step - loss: 0.5655 - accuracy: 0.8462\n"
     ]
    },
    {
     "data": {
      "text/plain": [
       "[0.5654785633087158, 0.8461538553237915]"
      ]
     },
     "execution_count": 8,
     "metadata": {},
     "output_type": "execute_result"
    }
   ],
   "source": [
    "model.evaluate(X_test, y_test)\n"
   ]
  },
  {
   "cell_type": "code",
   "execution_count": 9,
   "id": "1118c2c7",
   "metadata": {},
   "outputs": [],
   "source": [
    "import requests\n",
    "\n",
    "def predict_image(image_path):\n",
    "    img = cv2.imread(image_path)\n",
    "    img = cv2.resize(img, (224, 224)) / 255.0\n",
    "    prediction = model.predict(np.array([img]))\n",
    "    return label_encoder.inverse_transform([np.argmax(prediction)])[0]\n",
    "\n",
    "def predict_image_from_url(image_url):\n",
    "    response = requests.get(image_url)\n",
    "    if response.status_code == 200:\n",
    "        image_data = np.frombuffer(response.content, dtype=np.uint8)\n",
    "        img = cv2.imdecode(image_data, cv2.IMREAD_COLOR)\n",
    "        if img is not None:\n",
    "            img = cv2.resize(img, (224, 224)) / 255.0\n",
    "            prediction = model.predict(np.array([img]))\n",
    "            return label_encoder.inverse_transform([np.argmax(prediction)])[0]\n",
    "        else:\n",
    "            return \"Failed to decode image\"\n",
    "    else:\n",
    "        return \"Failed to download image\"\n",
    "\n",
    "# predict_image_from_url('https://location-voitures-essaouira.com/wp-content/uploads/2015/05/location-voitures-essaouira-rent-car-essaouira%20(2).png')"
   ]
  },
  {
   "cell_type": "code",
   "execution_count": 10,
   "id": "ecbec359",
   "metadata": {},
   "outputs": [
    {
     "name": "stderr",
     "output_type": "stream",
     "text": [
      "C:\\Users\\Lenovo ThinkPad T570\\anaconda3\\Lib\\site-packages\\keras\\src\\engine\\training.py:3079: UserWarning: You are saving your model as an HDF5 file via `model.save()`. This file format is considered legacy. We recommend using instead the native Keras format, e.g. `model.save('my_model.keras')`.\n",
      "  saving_api.save_model(\n"
     ]
    }
   ],
   "source": [
    "# import matplotlib. pyplot as plt\n",
    "# plt.scatter(y_test,y_pred)\n",
    "# plt.grid\n",
    "\n",
    "\n",
    "# Assuming 'model' is your trained Keras model\n",
    "model.save('my_model.h5')\n"
   ]
  },
  {
   "cell_type": "code",
   "execution_count": 11,
   "id": "edbd47a9",
   "metadata": {},
   "outputs": [
    {
     "name": "stdout",
     "output_type": "stream",
     "text": [
      "['sport' 'driving']\n"
     ]
    }
   ],
   "source": [
    "import numpy as np\n",
    "classes = np.load('classes.npy')\n",
    "print(classes)\n"
   ]
  },
  {
   "cell_type": "code",
   "execution_count": 12,
   "id": "58bdf4c7",
   "metadata": {},
   "outputs": [],
   "source": [
    "import numpy as np\n",
    "\n",
    "# List of class names\n",
    "classes = ['sport', 'driving']\n",
    "\n",
    "# Save this array to a .npy file\n",
    "np.save('classes.npy', classes)"
   ]
  },
  {
   "cell_type": "code",
   "execution_count": null,
   "id": "ba952f82",
   "metadata": {},
   "outputs": [],
   "source": []
  },
  {
   "cell_type": "code",
   "execution_count": null,
   "id": "2b618450",
   "metadata": {},
   "outputs": [],
   "source": []
  },
  {
   "cell_type": "code",
   "execution_count": null,
   "id": "f9ea9d94",
   "metadata": {},
   "outputs": [],
   "source": []
  }
 ],
 "metadata": {
  "kernelspec": {
   "display_name": "Python 3 (ipykernel)",
   "language": "python",
   "name": "python3"
  },
  "language_info": {
   "codemirror_mode": {
    "name": "ipython",
    "version": 3
   },
   "file_extension": ".py",
   "mimetype": "text/x-python",
   "name": "python",
   "nbconvert_exporter": "python",
   "pygments_lexer": "ipython3",
   "version": "3.11.5"
  }
 },
 "nbformat": 4,
 "nbformat_minor": 5
}

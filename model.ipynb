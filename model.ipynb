{
 "cells": [
  {
   "cell_type": "code",
   "execution_count": 2,
   "id": "9b9a388e",
   "metadata": {},
   "outputs": [],
   "source": [
    "import pandas as pd\n",
    "import cv2\n",
    "import os"
   ]
  },
  {
   "cell_type": "code",
   "execution_count": 6,
   "id": "15d3a235",
   "metadata": {},
   "outputs": [],
   "source": [
    "images = []\n",
    "labels = []\n",
    "categories = ['sport', 'driving']  # Replace with your actual categories\n",
    "\n",
    "for category in categories:  # categories you have like 'sports', 'shopping', etc.\n",
    "    for image in os.listdir(f'{category}'):\n",
    "        img = cv2.imread(f'{category}/{image}')\n",
    "        img = cv2.resize(img, (224, 224))  # Resize if necessary\n",
    "        images.append(img)\n",
    "        labels.append(category)"
   ]
  },
  {
   "cell_type": "code",
   "execution_count": null,
   "id": "ea4848d4",
   "metadata": {},
   "outputs": [],
   "source": []
  },
  {
   "cell_type": "code",
   "execution_count": 11,
   "id": "9a6df793",
   "metadata": {},
   "outputs": [
    {
     "name": "stdout",
     "output_type": "stream",
     "text": [
      "['sport' 'sport' 'sport' 'sport' 'sport' 'sport' 'sport' 'sport' 'sport'\n",
      " 'sport' 'sport' 'sport' 'sport' 'sport' 'sport' 'sport' 'sport' 'sport'\n",
      " 'sport' 'sport' 'sport' 'sport' 'sport' 'sport' 'sport' 'sport' 'sport'\n",
      " 'sport' 'sport' 'sport' 'sport' 'sport' 'sport' 'sport' 'driving'\n",
      " 'driving' 'driving' 'driving' 'driving' 'driving' 'driving' 'driving'\n",
      " 'driving' 'driving' 'driving' 'driving' 'driving' 'driving' 'driving'\n",
      " 'driving' 'driving' 'driving' 'driving' 'driving' 'driving' 'driving'\n",
      " 'driving' 'driving' 'driving' 'driving' 'driving' 'driving' 'driving'\n",
      " 'driving']\n"
     ]
    }
   ],
   "source": [
    "from sklearn.model_selection import train_test_split\n",
    "from tensorflow.keras.utils import to_categorical\n",
    "from sklearn.preprocessing import LabelEncoder\n",
    "import numpy as np\n",
    "\n",
    "labels = np.array(labels)\n",
    "# y = np.argmax(labels, axis=1)\n",
    "print(labels)\n",
    "y= labels"
   ]
  },
  {
   "cell_type": "code",
   "execution_count": 12,
   "id": "46c1f20a",
   "metadata": {},
   "outputs": [],
   "source": [
    "label_encoder = LabelEncoder()\n",
    "y = label_encoder.fit_transform(y)\n",
    "y = to_categorical(y)\n",
    "\n",
    "# Normalize image vectors\n",
    "images = np.array(images) / 255.0\n",
    "\n",
    "# Split the data\n",
    "X_train, X_test, y_train, y_test = train_test_split(images, y, test_size=0.2)\n",
    "\n"
   ]
  },
  {
   "cell_type": "code",
   "execution_count": 13,
   "id": "881587a5",
   "metadata": {},
   "outputs": [],
   "source": [
    "from tensorflow.keras.models import Sequential\n",
    "from tensorflow.keras.layers import Conv2D, MaxPooling2D\n",
    "from tensorflow.keras.layers import Activation, Dropout, Flatten, Dense"
   ]
  },
  {
   "cell_type": "code",
   "execution_count": 14,
   "id": "a3492514",
   "metadata": {},
   "outputs": [],
   "source": [
    "\n",
    "model = Sequential()\n",
    "model.add(Conv2D(32, (3, 3), input_shape=(224, 224, 3)))\n",
    "model.add(Activation('relu'))\n",
    "model.add(MaxPooling2D(pool_size=(2, 2)))\n",
    "\n",
    "# Add more layers as necessary\n",
    "\n",
    "model.add(Flatten())  # Flatten before dense layers\n",
    "model.add(Dense(64))\n",
    "model.add(Activation('relu'))\n",
    "model.add(Dropout(0.5))\n",
    "model.add(Dense(len(categories)))  # Output layer: one per category\n",
    "model.add(Activation('softmax'))\n",
    "\n",
    "model.compile(loss='categorical_crossentropy',\n",
    "              optimizer='adam',\n",
    "              metrics=['accuracy'])\n"
   ]
  },
  {
   "cell_type": "code",
   "execution_count": 15,
   "id": "fe4b5923",
   "metadata": {
    "scrolled": true
   },
   "outputs": [
    {
     "name": "stdout",
     "output_type": "stream",
     "text": [
      "Epoch 1/10\n",
      "2/2 [==============================] - 5s 2s/step - loss: 6.8541 - accuracy: 0.4889 - val_loss: 15.1060 - val_accuracy: 0.5000\n",
      "Epoch 2/10\n",
      "2/2 [==============================] - 2s 895ms/step - loss: 13.3349 - accuracy: 0.6889 - val_loss: 8.6266 - val_accuracy: 0.5000\n",
      "Epoch 3/10\n",
      "2/2 [==============================] - 2s 955ms/step - loss: 11.4007 - accuracy: 0.6444 - val_loss: 0.9611 - val_accuracy: 0.8333\n",
      "Epoch 4/10\n",
      "2/2 [==============================] - 2s 804ms/step - loss: 3.8814 - accuracy: 0.7778 - val_loss: 0.0626 - val_accuracy: 1.0000\n",
      "Epoch 5/10\n",
      "2/2 [==============================] - 2s 938ms/step - loss: 2.7021 - accuracy: 0.8222 - val_loss: 1.4305e-06 - val_accuracy: 1.0000\n",
      "Epoch 6/10\n",
      "2/2 [==============================] - 2s 931ms/step - loss: 1.4344 - accuracy: 0.8889 - val_loss: 3.6246 - val_accuracy: 0.6667\n",
      "Epoch 7/10\n",
      "2/2 [==============================] - 2s 877ms/step - loss: 3.4989 - accuracy: 0.7556 - val_loss: 0.9088 - val_accuracy: 0.8333\n",
      "Epoch 8/10\n",
      "2/2 [==============================] - 3s 1s/step - loss: 2.3061 - accuracy: 0.6889 - val_loss: 0.0013 - val_accuracy: 1.0000\n",
      "Epoch 9/10\n",
      "2/2 [==============================] - 3s 922ms/step - loss: 1.5170 - accuracy: 0.8222 - val_loss: 0.8817 - val_accuracy: 0.8333\n",
      "Epoch 10/10\n",
      "2/2 [==============================] - 2s 979ms/step - loss: 1.2309 - accuracy: 0.8222 - val_loss: 0.7759 - val_accuracy: 0.8333\n"
     ]
    },
    {
     "data": {
      "text/plain": [
       "<keras.src.callbacks.History at 0x210b69ab510>"
      ]
     },
     "execution_count": 15,
     "metadata": {},
     "output_type": "execute_result"
    }
   ],
   "source": [
    "model.fit(X_train, y_train, batch_size=32, epochs=10, validation_split=0.1)\n"
   ]
  },
  {
   "cell_type": "code",
   "execution_count": 16,
   "id": "92eca003",
   "metadata": {},
   "outputs": [
    {
     "name": "stdout",
     "output_type": "stream",
     "text": [
      "1/1 [==============================] - 0s 134ms/step - loss: 2.0154 - accuracy: 0.5385\n"
     ]
    },
    {
     "data": {
      "text/plain": [
       "[2.0153746604919434, 0.5384615659713745]"
      ]
     },
     "execution_count": 16,
     "metadata": {},
     "output_type": "execute_result"
    }
   ],
   "source": [
    "model.evaluate(X_test, y_test)\n"
   ]
  },
  {
   "cell_type": "code",
   "execution_count": 28,
   "id": "1118c2c7",
   "metadata": {},
   "outputs": [
    {
     "name": "stdout",
     "output_type": "stream",
     "text": [
      "1/1 [==============================] - 0s 52ms/step\n"
     ]
    },
    {
     "data": {
      "text/plain": [
       "'sport'"
      ]
     },
     "execution_count": 28,
     "metadata": {},
     "output_type": "execute_result"
    }
   ],
   "source": [
    "import requests\n",
    "\n",
    "def predict_image(image_path):\n",
    "    img = cv2.imread(image_path)\n",
    "    img = cv2.resize(img, (224, 224)) / 255.0\n",
    "    prediction = model.predict(np.array([img]))\n",
    "    return label_encoder.inverse_transform([np.argmax(prediction)])[0]\n",
    "\n",
    "def predict_image_from_url(image_url):\n",
    "    response = requests.get(image_url)\n",
    "    if response.status_code == 200:\n",
    "        image_data = np.frombuffer(response.content, dtype=np.uint8)\n",
    "        img = cv2.imdecode(image_data, cv2.IMREAD_COLOR)\n",
    "        if img is not None:\n",
    "            img = cv2.resize(img, (224, 224)) / 255.0\n",
    "            prediction = model.predict(np.array([img]))\n",
    "            return label_encoder.inverse_transform([np.argmax(prediction)])[0]\n",
    "        else:\n",
    "            return \"Failed to decode image\"\n",
    "    else:\n",
    "        return \"Failed to download image\"\n",
    "\n",
    "predict_image_from_url('https://location-voitures-essaouira.com/wp-content/uploads/2015/05/location-voitures-essaouira-rent-car-essaouira%20(2).png')"
   ]
  },
  {
   "cell_type": "code",
   "execution_count": null,
   "id": "ecbec359",
   "metadata": {},
   "outputs": [],
   "source": [
    "plt.scatter(y_test,y_pred)\n",
    "plt.grid"
   ]
  },
  {
   "cell_type": "code",
   "execution_count": null,
   "id": "edbd47a9",
   "metadata": {},
   "outputs": [],
   "source": []
  },
  {
   "cell_type": "code",
   "execution_count": null,
   "id": "58bdf4c7",
   "metadata": {},
   "outputs": [],
   "source": []
  },
  {
   "cell_type": "code",
   "execution_count": null,
   "id": "d6b7595d",
   "metadata": {},
   "outputs": [],
   "source": []
  }
 ],
 "metadata": {
  "kernelspec": {
   "display_name": "Python 3 (ipykernel)",
   "language": "python",
   "name": "python3"
  },
  "language_info": {
   "codemirror_mode": {
    "name": "ipython",
    "version": 3
   },
   "file_extension": ".py",
   "mimetype": "text/x-python",
   "name": "python",
   "nbconvert_exporter": "python",
   "pygments_lexer": "ipython3",
   "version": "3.11.5"
  }
 },
 "nbformat": 4,
 "nbformat_minor": 5
}
